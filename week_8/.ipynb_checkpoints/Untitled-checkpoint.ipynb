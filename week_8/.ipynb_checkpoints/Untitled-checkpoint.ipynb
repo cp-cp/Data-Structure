{
 "cells": [
  {
   "cell_type": "code",
   "execution_count": 1,
   "id": "ce625e5a",
   "metadata": {},
   "outputs": [
    {
     "name": "stdout",
     "output_type": "stream",
     "text": [
      "3 0 0.0\n",
      "1 4 1.3258176636680326\n",
      "2 0 0.0\n",
      "3 -1 5.961434752782944\n"
     ]
    },
    {
     "data": {
      "image/png": "[encoded data removed]",
      "text/plain": [
       "<Figure size 432x288 with 1 Axes>"
      ]
     },
     "metadata": {
      "needs_background": "light"
     },
     "output_type": "display_data"
    }
   ],
   "source": [
    "import math\n",
    "import matplotlib.pyplot as plt\n",
    "\n",
    "def angle(x, y):\n",
    "    angle = math.atan2(y, x)\n",
    "    if angle < 0:\n",
    "        angle += 2 * math.pi\n",
    "    return angle\n",
    "\n",
    "class Node:\n",
    "    def __init__(self, x, y, node_id=None):\n",
    "        self.x = x\n",
    "        self.y = y\n",
    "        self.id = node_id\n",
    "        self.degree = angle(x, y)\n",
    "\n",
    "    def print(self):\n",
    "        print(f\"{self.x} {self.y} {self.degree}\")\n",
    "\n",
    "class Polygon:\n",
    "    def __init__(self):\n",
    "        self.node_set = []\n",
    "        self.node_num = 0\n",
    "        self.max_node = None\n",
    "        self.min_node = None\n",
    "\n",
    "    def push_node(self, p):\n",
    "        self.node_set.append(p)\n",
    "        self.node_num += 1\n",
    "        if self.max_node is None:\n",
    "            self.max_node = p\n",
    "        if self.min_node is None:\n",
    "            self.min_node = p\n",
    "        if self.max_node.degree - p.degree < 0:\n",
    "            self.max_node = p\n",
    "        if self.min_node.degree - p.degree > 0:\n",
    "            self.min_node = p\n",
    "\n",
    "# Design the starting point\n",
    "start_node = Node(0, 0)\n",
    "\n",
    "polygon_1 = Polygon()\n",
    "polygon_1.push_node(Node(1, 2, 1))\n",
    "polygon_1.push_node(Node(1, 4, 2))\n",
    "polygon_1.push_node(Node(3, 5, 3))\n",
    "polygon_1.push_node(Node(4, 1, 4))\n",
    "polygon_1.push_node(Node(3, 0, 5))\n",
    "\n",
    "polygon_2 = Polygon()\n",
    "polygon_2.push_node(Node(2, 0, 1))\n",
    "polygon_2.push_node(Node(3, -1, 2))\n",
    "polygon_2.push_node(Node(5, 1, 3))\n",
    "polygon_2.push_node(Node(4, -2, 4))\n",
    "polygon_2.push_node(Node(2, -4, 5))\n",
    "polygon_2.push_node(Node(1, -1, 6))\n",
    "\n",
    "polygon_1.min_node.print()\n",
    "polygon_1.max_node.print()\n",
    "\n",
    "polygon_2.min_node.print()\n",
    "polygon_2.max_node.print()\n",
    "\n",
    "# Plot the polygons\n",
    "fig, ax = plt.subplots()\n",
    "for poly in [polygon_1, polygon_2]:\n",
    "    x = [node.x for node in poly.node_set]\n",
    "    y = [node.y for node in poly.node_set]\n",
    "    x.append(x[0])  # Close the polygon by adding the first point again\n",
    "    y.append(y[0])\n",
    "    plt.plot(x, y)\n",
    "\n",
    "plt.gca().set_aspect('equal', adjustable='box')\n",
    "plt.grid()\n",
    "plt.show()\n"
   ]
  }
 ],
 "metadata": {
  "kernelspec": {
   "display_name": "Python 3 (ipykernel)",
   "language": "python",
   "name": "python3"
  },
  "language_info": {
   "codemirror_mode": {
    "name": "ipython",
    "version": 3
   },
   "file_extension": ".py",
   "mimetype": "text/x-python",
   "name": "python",
   "nbconvert_exporter": "python",
   "pygments_lexer": "ipython3",
   "version": "3.9.12"
  }
 },
 "nbformat": 4,
 "nbformat_minor": 5
}
